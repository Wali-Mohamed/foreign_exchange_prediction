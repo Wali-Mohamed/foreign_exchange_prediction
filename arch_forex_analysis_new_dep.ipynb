{
 "cells": [
  {
   "cell_type": "markdown",
   "id": "719485ef-14f9-4826-87d3-02d6fb88262f",
   "metadata": {},
   "source": [
    "# Deploying Model"
   ]
  },
  {
   "cell_type": "code",
   "execution_count": null,
   "id": "7270d86b-cc83-4183-bfb0-bbc35406cdd5",
   "metadata": {
    "tags": []
   },
   "outputs": [],
   "source": [
    "#!pip3 install pydantic[dotenv]"
   ]
  },
  {
   "cell_type": "code",
   "execution_count": null,
   "id": "94135c98-6e0a-44fc-a659-5c837f7e4f86",
   "metadata": {},
   "outputs": [],
   "source": [
    "#!pip3 install arch --upgrade"
   ]
  },
  {
   "cell_type": "code",
   "execution_count": null,
   "id": "ec065a57-1fe1-475c-95a9-a3114c9ef6d6",
   "metadata": {},
   "outputs": [],
   "source": [
    "#pip install os"
   ]
  },
  {
   "cell_type": "code",
   "execution_count": null,
   "id": "eeed0da3-69ce-47f0-94bf-7ee529a0220f",
   "metadata": {},
   "outputs": [],
   "source": [
    "#!pip3 install arch --user"
   ]
  },
  {
   "cell_type": "code",
   "execution_count": 31,
   "id": "63e4a36b-9c65-41e3-bd4b-69b222cdeb6d",
   "metadata": {},
   "outputs": [],
   "source": [
    "\n",
    "import flask\n"
   ]
  },
  {
   "cell_type": "code",
   "execution_count": 1,
   "id": "ef6840e4-bff6-43c7-acad-3ded1d3972da",
   "metadata": {},
   "outputs": [],
   "source": [
    "\n",
    "#import os\n",
    "import sqlite3\n",
    "from glob import glob\n",
    "\n",
    "import joblib\n",
    "import pandas as pd\n",
    "import requests\n",
    "from arch import arch_model\n",
    "from statsmodels.tsa.arima_model import ARIMA\n",
    "from arch.univariate.base import ARCHModelResult\n",
    "from data import SQLRepository, AlphaVantageAPI\n",
    "from config import settings\n"
   ]
  },
  {
   "cell_type": "code",
   "execution_count": 2,
   "id": "5e9cd434-7491-47c1-8a98-ee6f1bdfb891",
   "metadata": {},
   "outputs": [
    {
     "name": "stdout",
     "output_type": "stream",
     "text": [
      "repo type: <class 'data.SQLRepository'>\n",
      "repo.connection type: <class 'sqlite3.Connection'>\n"
     ]
    }
   ],
   "source": [
    "# Connection to databse\n",
    "connection = sqlite3.connect(settings.db_name, check_same_thread=False)\n",
    "repo =SQLRepository(connection=connection)\n",
    "\n",
    "print(\"repo type:\", type(repo))\n",
    "print(\"repo.connection type:\", type(repo.connection))"
   ]
  },
  {
   "cell_type": "code",
   "execution_count": 3,
   "id": "7c3094e8-0504-4a99-9a73-85c47c6076b4",
   "metadata": {},
   "outputs": [
    {
     "data": {
      "application/javascript": [
       "\n",
       "        if (window._pyforest_update_imports_cell) { window._pyforest_update_imports_cell('import os'); }\n",
       "    "
      ],
      "text/plain": [
       "<IPython.core.display.Javascript object>"
      ]
     },
     "metadata": {},
     "output_type": "display_data"
    },
    {
     "data": {
      "text/plain": [
       "'C:\\\\Users\\\\ITC_Consultant\\\\Documents\\\\Personal Studies\\\\Deployment in flask api'"
      ]
     },
     "execution_count": 3,
     "metadata": {},
     "output_type": "execute_result"
    }
   ],
   "source": [
    "os.getcwd()"
   ]
  },
  {
   "cell_type": "code",
   "execution_count": 3,
   "id": "c72fc526-a812-49df-b136-73dfb5400aaf",
   "metadata": {},
   "outputs": [],
   "source": [
    "# Instantiate the garch model class\n",
    "\n",
    "from model import GarchModel\n",
    "from_curr='GBP'\n",
    "to_curr='USD'\n",
    "# Instantiate a `GarchModel`\n",
    "curr_data_empty= GarchModel(from_curr=from_curr,to_curr=to_curr, repo=repo, use_new_data=False)\n",
    "\n",
    "# Does `gm_gbp` have the correct attributes?\n",
    "assert curr_data_empty.from_currency == from_curr\n",
    "assert curr_data_empty.to_currency == to_curr\n",
    "assert curr_data_empty.repo == repo\n",
    "assert not curr_data_empty.use_new_data\n",
    "assert curr_data_empty.model_directory == settings.model_directory\n"
   ]
  },
  {
   "cell_type": "code",
   "execution_count": 4,
   "id": "646f4a74-5eab-4540-844b-b2e2c9ad505b",
   "metadata": {},
   "outputs": [
    {
     "data": {
      "text/plain": [
       "date\n",
       "2023-05-17    0.041659\n",
       "2023-05-18   -0.666261\n",
       "2023-05-19    0.319242\n",
       "2023-05-22   -0.085182\n",
       "2023-05-23   -0.338604\n",
       "Name: return, dtype: float64"
      ]
     },
     "execution_count": 4,
     "metadata": {},
     "output_type": "execute_result"
    }
   ],
   "source": [
    "# Instantiate `GarchModel`, use new data\n",
    "currency_data = GarchModel(from_curr=from_curr,to_curr=to_curr, repo=repo, use_new_data=True)\n",
    "\n",
    "# Check that model doesn't have `data` attribute yet\n",
    "assert not hasattr(currency_data, \"data\")\n",
    "\n",
    "# Wrangle data\n",
    "currency_data.wrangle_data(n_observations=1000)\n",
    "\n",
    "# Does model now have `data` attribute?\n",
    "assert hasattr(currency_data, \"data\")\n",
    "# does the model has repo connection\n",
    "assert isinstance(currency_data.repo, SQLRepository)\n",
    "\n",
    "\n",
    "# Is the `data` a Series?\n",
    "assert isinstance(currency_data.data, pd.Series)\n",
    "\n",
    "# Is Series correct shape?\n",
    "assert currency_data.data.shape == (1000,)\n",
    "\n",
    "currency_data.data.tail()"
   ]
  },
  {
   "cell_type": "code",
   "execution_count": 5,
   "id": "1c823760-9c4b-4692-9767-4b8f161ee460",
   "metadata": {},
   "outputs": [],
   "source": [
    "#original with garch"
   ]
  },
  {
   "cell_type": "code",
   "execution_count": 6,
   "id": "a4fc2dca-030d-4eef-8dec-512e2df7ca09",
   "metadata": {},
   "outputs": [
    {
     "data": {
      "text/html": [
       "<table class=\"simpletable\">\n",
       "<caption>Constant Mean - GARCH Model Results</caption>\n",
       "<tr>\n",
       "  <th>Dep. Variable:</th>       <td>return</td>       <th>  R-squared:         </th>  <td>   0.000</td> \n",
       "</tr>\n",
       "<tr>\n",
       "  <th>Mean Model:</th>       <td>Constant Mean</td>   <th>  Adj. R-squared:    </th>  <td>   0.000</td> \n",
       "</tr>\n",
       "<tr>\n",
       "  <th>Vol Model:</th>            <td>GARCH</td>       <th>  Log-Likelihood:    </th> <td>  -858.539</td>\n",
       "</tr>\n",
       "<tr>\n",
       "  <th>Distribution:</th>        <td>Normal</td>       <th>  AIC:               </th> <td>   1725.08</td>\n",
       "</tr>\n",
       "<tr>\n",
       "  <th>Method:</th>        <td>Maximum Likelihood</td> <th>  BIC:               </th> <td>   1744.71</td>\n",
       "</tr>\n",
       "<tr>\n",
       "  <th></th>                        <td></td>          <th>  No. Observations:  </th>    <td>1000</td>   \n",
       "</tr>\n",
       "<tr>\n",
       "  <th>Date:</th>           <td>Tue, May 23 2023</td>  <th>  Df Residuals:      </th>     <td>999</td>   \n",
       "</tr>\n",
       "<tr>\n",
       "  <th>Time:</th>               <td>14:16:12</td>      <th>  Df Model:          </th>      <td>1</td>    \n",
       "</tr>\n",
       "</table>\n",
       "<table class=\"simpletable\">\n",
       "<caption>Mean Model</caption>\n",
       "<tr>\n",
       "   <td></td>     <th>coef</th>     <th>std err</th>      <th>t</th>       <th>P>|t|</th>      <th>95.0% Conf. Int.</th>   \n",
       "</tr>\n",
       "<tr>\n",
       "  <th>mu</th> <td>7.8355e-03</td> <td>1.654e-02</td> <td>    0.474</td> <td>    0.636</td> <td>[-2.458e-02,4.025e-02]</td>\n",
       "</tr>\n",
       "</table>\n",
       "<table class=\"simpletable\">\n",
       "<caption>Volatility Model</caption>\n",
       "<tr>\n",
       "      <td></td>        <th>coef</th>     <th>std err</th>      <th>t</th>       <th>P>|t|</th>     <th>95.0% Conf. Int.</th>   \n",
       "</tr>\n",
       "<tr>\n",
       "  <th>omega</th>    <td>    0.0242</td> <td>1.070e-02</td> <td>    2.260</td> <td>2.380e-02</td> <td>[3.215e-03,4.516e-02]</td>\n",
       "</tr>\n",
       "<tr>\n",
       "  <th>alpha[1]</th> <td>    0.1354</td> <td>3.571e-02</td> <td>    3.791</td> <td>1.501e-04</td>  <td>[6.538e-02,  0.205]</td> \n",
       "</tr>\n",
       "<tr>\n",
       "  <th>beta[1]</th>  <td>    0.8014</td> <td>5.556e-02</td> <td>   14.424</td> <td>3.641e-47</td>   <td>[  0.692,  0.910]</td>  \n",
       "</tr>\n",
       "</table><br/><br/>Covariance estimator: robust"
      ],
      "text/plain": [
       "<class 'statsmodels.iolib.summary.Summary'>\n",
       "\"\"\"\n",
       "                     Constant Mean - GARCH Model Results                      \n",
       "==============================================================================\n",
       "Dep. Variable:                 return   R-squared:                       0.000\n",
       "Mean Model:             Constant Mean   Adj. R-squared:                  0.000\n",
       "Vol Model:                      GARCH   Log-Likelihood:               -858.539\n",
       "Distribution:                  Normal   AIC:                           1725.08\n",
       "Method:            Maximum Likelihood   BIC:                           1744.71\n",
       "                                        No. Observations:                 1000\n",
       "Date:                Tue, May 23 2023   Df Residuals:                      999\n",
       "Time:                        14:16:12   Df Model:                            1\n",
       "                                  Mean Model                                 \n",
       "=============================================================================\n",
       "                 coef    std err          t      P>|t|       95.0% Conf. Int.\n",
       "-----------------------------------------------------------------------------\n",
       "mu         7.8355e-03  1.654e-02      0.474      0.636 [-2.458e-02,4.025e-02]\n",
       "                              Volatility Model                              \n",
       "============================================================================\n",
       "                 coef    std err          t      P>|t|      95.0% Conf. Int.\n",
       "----------------------------------------------------------------------------\n",
       "omega          0.0242  1.070e-02      2.260  2.380e-02 [3.215e-03,4.516e-02]\n",
       "alpha[1]       0.1354  3.571e-02      3.791  1.501e-04   [6.538e-02,  0.205]\n",
       "beta[1]        0.8014  5.556e-02     14.424  3.641e-47     [  0.692,  0.910]\n",
       "============================================================================\n",
       "\n",
       "Covariance estimator: robust\n",
       "\"\"\""
      ]
     },
     "execution_count": 6,
     "metadata": {},
     "output_type": "execute_result"
    }
   ],
   "source": [
    "# Instantiate `GarchModel`, use old data\n",
    "currency_model = GarchModel(from_curr=from_curr,to_curr=to_curr, repo=repo, use_new_data=True)\n",
    "\n",
    "# Wrangle data\n",
    "currency_model.wrangle_data(n_observations=1000)\n",
    "\n",
    "# Fit GARCH(1,1) model to data\n",
    "currency_model.fit(p=1, q=1)\n",
    "\n",
    "# Does `model_shop` have a `model` attribute now?\n",
    "assert hasattr(currency_model, \"model\")\n",
    "\n",
    "# Is model correct data type?\n",
    "assert isinstance(currency_model.model, ARCHModelResult)\n",
    "\n",
    "# Does model have correct parameters?\n",
    "assert currency_model.model.params.index.tolist() == [\"mu\", \"omega\", \"alpha[1]\", \"beta[1]\"]\n",
    "\n",
    "# Check model parameters\n",
    "currency_model.model.summary()"
   ]
  },
  {
   "cell_type": "code",
   "execution_count": 7,
   "id": "0186a65c-d07f-4693-a4a1-23c389538eaa",
   "metadata": {},
   "outputs": [
    {
     "name": "stdout",
     "output_type": "stream",
     "text": [
      "['_GarchModel__clean_prediction', '__class__', '__delattr__', '__dict__', '__dir__', '__doc__', '__eq__', '__format__', '__ge__', '__getattribute__', '__gt__', '__hash__', '__init__', '__init_subclass__', '__le__', '__lt__', '__module__', '__ne__', '__new__', '__reduce__', '__reduce_ex__', '__repr__', '__setattr__', '__sizeof__', '__str__', '__subclasshook__', '__weakref__', 'aic', 'bic', 'data', 'dump', 'fit', 'from_currency', 'load', 'model', 'model_directory', 'predict_volatility', 'pvalues', 'repo', 'table_name', 'to_currency', 'use_new_data', 'wrangle_data']\n"
     ]
    },
    {
     "data": {
      "text/plain": [
       "<method-wrapper '__getattribute__' of GarchModel object at 0x000001E1DB10EF40>"
      ]
     },
     "execution_count": 7,
     "metadata": {},
     "output_type": "execute_result"
    }
   ],
   "source": [
    "print(dir(currency_model))\n",
    "currency_model.__getattribute__"
   ]
  },
  {
   "cell_type": "code",
   "execution_count": 8,
   "id": "e56cd3a8-0bf5-408a-8caf-386b65145be6",
   "metadata": {},
   "outputs": [
    {
     "data": {
      "text/plain": [
       "{'2023-05-24T00:00:00': 0.4855267210324021,\n",
       " '2023-05-25T00:00:00': 0.4949898034584431,\n",
       " '2023-05-26T00:00:00': 0.5036931751357424,\n",
       " '2023-05-29T00:00:00': 0.5117118665582387,\n",
       " '2023-05-30T00:00:00': 0.5191110939027828}"
      ]
     },
     "execution_count": 8,
     "metadata": {},
     "output_type": "execute_result"
    }
   ],
   "source": [
    "# Generate prediction from `model_shop`\n",
    "prediction = currency_model.predict_volatility(horizon=5)\n",
    "\n",
    "\n",
    "# Is prediction a dictionary?\n",
    "assert isinstance(prediction, dict)\n",
    "\n",
    "# Are keys correct data type?\n",
    "assert all(isinstance(k, str) for k in prediction.keys())\n",
    "\n",
    "# Are values correct data type?\n",
    "assert all(isinstance(v, float) for v in prediction.values())\n",
    "\n",
    "prediction"
   ]
  },
  {
   "cell_type": "code",
   "execution_count": 9,
   "id": "b5ff6aeb-4b69-4504-98ba-99a16c653b02",
   "metadata": {},
   "outputs": [],
   "source": [
    "# just rough work"
   ]
  },
  {
   "cell_type": "code",
   "execution_count": 10,
   "id": "34b547b0-c9dd-4c1b-a7d7-50df795d214f",
   "metadata": {},
   "outputs": [
    {
     "data": {
      "application/javascript": [
       "\n",
       "        if (window._pyforest_update_imports_cell) { window._pyforest_update_imports_cell('import os'); }\n",
       "    "
      ],
      "text/plain": [
       "<IPython.core.display.Javascript object>"
      ]
     },
     "metadata": {},
     "output_type": "display_data"
    },
    {
     "data": {
      "text/plain": [
       "'models/2023-05-23T14:16:12.397777_GBPUSD.pkl'"
      ]
     },
     "execution_count": 10,
     "metadata": {},
     "output_type": "execute_result"
    }
   ],
   "source": [
    "ticker=from_curr+to_curr\n",
    "timestamp = pd.Timestamp.now().isoformat()\n",
    "timestamp\n",
    "p='models'\n",
    "\n",
    "os.path.join(p+'/'+f'{timestamp}_{ticker}.pkl')\n"
   ]
  },
  {
   "cell_type": "code",
   "execution_count": 11,
   "id": "dcdfe5ae-dcc4-4228-93b6-5dd69231422e",
   "metadata": {},
   "outputs": [
    {
     "name": "stdout",
     "output_type": "stream",
     "text": [
      "Unexpected exception formatting exception. Falling back to standard exception\n"
     ]
    },
    {
     "name": "stderr",
     "output_type": "stream",
     "text": [
      "Traceback (most recent call last):\n",
      "  File \"C:\\Users\\ITC_Consultant\\AppData\\Roaming\\Python\\Python39\\site-packages\\IPython\\core\\interactiveshell.py\", line 3460, in run_code\n",
      "    exec(code_obj, self.user_global_ns, self.user_ns)\n",
      "  File \"C:\\Users\\ITC_Consultant\\AppData\\Local\\Temp\\ipykernel_12064\\3372274769.py\", line 2, in <module>\n",
      "    filename = model_shop.dump()\n",
      "NameError: name 'model_shop' is not defined\n",
      "\n",
      "During handling of the above exception, another exception occurred:\n",
      "\n",
      "Traceback (most recent call last):\n",
      "  File \"C:\\Users\\ITC_Consultant\\AppData\\Roaming\\Python\\Python39\\site-packages\\IPython\\core\\interactiveshell.py\", line 2057, in showtraceback\n",
      "    stb = self.InteractiveTB.structured_traceback(\n",
      "  File \"C:\\Users\\ITC_Consultant\\AppData\\Roaming\\Python\\Python39\\site-packages\\IPython\\core\\ultratb.py\", line 1288, in structured_traceback\n",
      "    return FormattedTB.structured_traceback(\n",
      "  File \"C:\\Users\\ITC_Consultant\\AppData\\Roaming\\Python\\Python39\\site-packages\\IPython\\core\\ultratb.py\", line 1177, in structured_traceback\n",
      "    return VerboseTB.structured_traceback(\n",
      "  File \"C:\\Users\\ITC_Consultant\\AppData\\Roaming\\Python\\Python39\\site-packages\\IPython\\core\\ultratb.py\", line 1030, in structured_traceback\n",
      "    formatted_exception = self.format_exception_as_a_whole(etype, evalue, etb, number_of_lines_of_context,\n",
      "  File \"C:\\Users\\ITC_Consultant\\AppData\\Roaming\\Python\\Python39\\site-packages\\IPython\\core\\ultratb.py\", line 960, in format_exception_as_a_whole\n",
      "    frames.append(self.format_record(record))\n",
      "  File \"C:\\Users\\ITC_Consultant\\AppData\\Roaming\\Python\\Python39\\site-packages\\IPython\\core\\ultratb.py\", line 870, in format_record\n",
      "    frame_info.lines, Colors, self.has_colors, lvals\n",
      "  File \"C:\\Users\\ITC_Consultant\\AppData\\Roaming\\Python\\Python39\\site-packages\\IPython\\core\\ultratb.py\", line 704, in lines\n",
      "    return self._sd.lines\n",
      "  File \"C:\\Users\\ITC_Consultant\\AppData\\Roaming\\Python\\Python39\\site-packages\\stack_data\\utils.py\", line 144, in cached_property_wrapper\n",
      "    value = obj.__dict__[self.func.__name__] = self.func(obj)\n",
      "  File \"C:\\Users\\ITC_Consultant\\AppData\\Roaming\\Python\\Python39\\site-packages\\stack_data\\core.py\", line 734, in lines\n",
      "    pieces = self.included_pieces\n",
      "  File \"C:\\Users\\ITC_Consultant\\AppData\\Roaming\\Python\\Python39\\site-packages\\stack_data\\utils.py\", line 144, in cached_property_wrapper\n",
      "    value = obj.__dict__[self.func.__name__] = self.func(obj)\n",
      "  File \"C:\\Users\\ITC_Consultant\\AppData\\Roaming\\Python\\Python39\\site-packages\\stack_data\\core.py\", line 677, in included_pieces\n",
      "    scope_pieces = self.scope_pieces\n",
      "  File \"C:\\Users\\ITC_Consultant\\AppData\\Roaming\\Python\\Python39\\site-packages\\stack_data\\utils.py\", line 144, in cached_property_wrapper\n",
      "    value = obj.__dict__[self.func.__name__] = self.func(obj)\n",
      "  File \"C:\\Users\\ITC_Consultant\\AppData\\Roaming\\Python\\Python39\\site-packages\\stack_data\\core.py\", line 614, in scope_pieces\n",
      "    scope_start, scope_end = self.source.line_range(self.scope)\n",
      "  File \"C:\\Users\\ITC_Consultant\\AppData\\Roaming\\Python\\Python39\\site-packages\\stack_data\\core.py\", line 178, in line_range\n",
      "    return line_range(self.asttext(), node)\n",
      "AttributeError: 'Source' object has no attribute 'asttext'\n"
     ]
    }
   ],
   "source": [
    "# Save `model_shop` model, assign filename\n",
    "filename = model_shop.dump()\n",
    "\n",
    "# Is `filename` a string?\n",
    "assert isinstance(filename, str)\n",
    "\n",
    "# Does filename include ticker symbol?\n",
    "assert model_shop.ticker in filename\n",
    "\n",
    "# Does file exist?\n",
    "assert os.path.exists(filename)\n",
    "\n",
    "filename"
   ]
  },
  {
   "cell_type": "code",
   "execution_count": 12,
   "id": "18d4f4fd-c482-466f-94b0-4f77e9ddec29",
   "metadata": {
    "tags": []
   },
   "outputs": [
    {
     "data": {
      "application/javascript": [
       "\n",
       "        if (window._pyforest_update_imports_cell) { window._pyforest_update_imports_cell('import os'); }\n",
       "    "
      ],
      "text/plain": [
       "<IPython.core.display.Javascript object>"
      ]
     },
     "metadata": {},
     "output_type": "display_data"
    },
    {
     "name": "stdout",
     "output_type": "stream",
     "text": [
      "Unexpected exception formatting exception. Falling back to standard exception\n"
     ]
    },
    {
     "name": "stderr",
     "output_type": "stream",
     "text": [
      "Traceback (most recent call last):\n",
      "  File \"C:\\Users\\ITC_Consultant\\AppData\\Roaming\\Python\\Python39\\site-packages\\IPython\\core\\interactiveshell.py\", line 3460, in run_code\n",
      "    exec(code_obj, self.user_global_ns, self.user_ns)\n",
      "  File \"C:\\Users\\ITC_Consultant\\AppData\\Local\\Temp\\ipykernel_12064\\2001308469.py\", line 6, in <module>\n",
      "    model_path=sorted(glob(pattern))[-1]\n",
      "IndexError: list index out of range\n",
      "\n",
      "During handling of the above exception, another exception occurred:\n",
      "\n",
      "Traceback (most recent call last):\n",
      "  File \"C:\\Users\\ITC_Consultant\\AppData\\Roaming\\Python\\Python39\\site-packages\\IPython\\core\\interactiveshell.py\", line 2057, in showtraceback\n",
      "    stb = self.InteractiveTB.structured_traceback(\n",
      "  File \"C:\\Users\\ITC_Consultant\\AppData\\Roaming\\Python\\Python39\\site-packages\\IPython\\core\\ultratb.py\", line 1288, in structured_traceback\n",
      "    return FormattedTB.structured_traceback(\n",
      "  File \"C:\\Users\\ITC_Consultant\\AppData\\Roaming\\Python\\Python39\\site-packages\\IPython\\core\\ultratb.py\", line 1177, in structured_traceback\n",
      "    return VerboseTB.structured_traceback(\n",
      "  File \"C:\\Users\\ITC_Consultant\\AppData\\Roaming\\Python\\Python39\\site-packages\\IPython\\core\\ultratb.py\", line 1030, in structured_traceback\n",
      "    formatted_exception = self.format_exception_as_a_whole(etype, evalue, etb, number_of_lines_of_context,\n",
      "  File \"C:\\Users\\ITC_Consultant\\AppData\\Roaming\\Python\\Python39\\site-packages\\IPython\\core\\ultratb.py\", line 960, in format_exception_as_a_whole\n",
      "    frames.append(self.format_record(record))\n",
      "  File \"C:\\Users\\ITC_Consultant\\AppData\\Roaming\\Python\\Python39\\site-packages\\IPython\\core\\ultratb.py\", line 870, in format_record\n",
      "    frame_info.lines, Colors, self.has_colors, lvals\n",
      "  File \"C:\\Users\\ITC_Consultant\\AppData\\Roaming\\Python\\Python39\\site-packages\\IPython\\core\\ultratb.py\", line 704, in lines\n",
      "    return self._sd.lines\n",
      "  File \"C:\\Users\\ITC_Consultant\\AppData\\Roaming\\Python\\Python39\\site-packages\\stack_data\\utils.py\", line 144, in cached_property_wrapper\n",
      "    value = obj.__dict__[self.func.__name__] = self.func(obj)\n",
      "  File \"C:\\Users\\ITC_Consultant\\AppData\\Roaming\\Python\\Python39\\site-packages\\stack_data\\core.py\", line 734, in lines\n",
      "    pieces = self.included_pieces\n",
      "  File \"C:\\Users\\ITC_Consultant\\AppData\\Roaming\\Python\\Python39\\site-packages\\stack_data\\utils.py\", line 144, in cached_property_wrapper\n",
      "    value = obj.__dict__[self.func.__name__] = self.func(obj)\n",
      "  File \"C:\\Users\\ITC_Consultant\\AppData\\Roaming\\Python\\Python39\\site-packages\\stack_data\\core.py\", line 677, in included_pieces\n",
      "    scope_pieces = self.scope_pieces\n",
      "  File \"C:\\Users\\ITC_Consultant\\AppData\\Roaming\\Python\\Python39\\site-packages\\stack_data\\utils.py\", line 144, in cached_property_wrapper\n",
      "    value = obj.__dict__[self.func.__name__] = self.func(obj)\n",
      "  File \"C:\\Users\\ITC_Consultant\\AppData\\Roaming\\Python\\Python39\\site-packages\\stack_data\\core.py\", line 614, in scope_pieces\n",
      "    scope_start, scope_end = self.source.line_range(self.scope)\n",
      "  File \"C:\\Users\\ITC_Consultant\\AppData\\Roaming\\Python\\Python39\\site-packages\\stack_data\\core.py\", line 178, in line_range\n",
      "    return line_range(self.asttext(), node)\n",
      "AttributeError: 'Source' object has no attribute 'asttext'\n"
     ]
    }
   ],
   "source": [
    "# rough work\n",
    "ticker='GBP'\n",
    "#ticker='AMBUJACEM.BSE'\n",
    "pattern=os.path.join(settings.model_directory, f'*{ticker}.pkl')\n",
    "pattern\n",
    "model_path=sorted(glob(pattern))[-1]\n",
    "model_path"
   ]
  },
  {
   "cell_type": "code",
   "execution_count": 13,
   "id": "e28da19a-7f5f-42be-9084-fcbdc7851bf4",
   "metadata": {
    "tags": []
   },
   "outputs": [],
   "source": [
    "def load(ticker):\n",
    "\n",
    "    \"\"\"Load latest model from model directory.\n",
    "\n",
    "    Parameters  \n",
    "    ----------\n",
    "    ticker : str\n",
    "        Ticker symbol for which model was trained.\n",
    "\n",
    "    Returns\n",
    "    -------\n",
    "    `ARCHModelResult`\n",
    "    \"\"\"\n",
    "    # Create pattern for glob search\n",
    "    pattern = os.path.join(settings.model_directory, f'*{ticker}.pkl')\n",
    "\n",
    "    # Try to find path of latest model\n",
    "    try:\n",
    "          \n",
    "        model_path = sorted(glob(pattern))[-1]\n",
    "    except IndexError:\n",
    "        \n",
    "        raise Exception(f'No model trained for \"{ticker}\".')\n",
    "        \n",
    "    \n",
    "        \n",
    "\n",
    "    # Handle possible `IndexError`\n",
    "    \n",
    "\n",
    "    # Load model\n",
    "    model = joblib.load(model_path)\n",
    "\n",
    "    # Return model\n",
    "    return model"
   ]
  },
  {
   "cell_type": "code",
   "execution_count": 14,
   "id": "d0ae1273-8b35-446f-8b34-c0bb2c7018f6",
   "metadata": {
    "tags": []
   },
   "outputs": [
    {
     "name": "stdout",
     "output_type": "stream",
     "text": [
      "Unexpected exception formatting exception. Falling back to standard exception\n"
     ]
    },
    {
     "name": "stderr",
     "output_type": "stream",
     "text": [
      "Traceback (most recent call last):\n",
      "  File \"C:\\Users\\ITC_Consultant\\AppData\\Roaming\\Python\\Python39\\site-packages\\IPython\\core\\interactiveshell.py\", line 3460, in run_code\n",
      "    exec(code_obj, self.user_global_ns, self.user_ns)\n",
      "  File \"C:\\Users\\ITC_Consultant\\AppData\\Local\\Temp\\ipykernel_12064\\1432753395.py\", line 1, in <module>\n",
      "    model_shop\n",
      "NameError: name 'model_shop' is not defined\n",
      "\n",
      "During handling of the above exception, another exception occurred:\n",
      "\n",
      "Traceback (most recent call last):\n",
      "  File \"C:\\Users\\ITC_Consultant\\AppData\\Roaming\\Python\\Python39\\site-packages\\IPython\\core\\interactiveshell.py\", line 2057, in showtraceback\n",
      "    stb = self.InteractiveTB.structured_traceback(\n",
      "  File \"C:\\Users\\ITC_Consultant\\AppData\\Roaming\\Python\\Python39\\site-packages\\IPython\\core\\ultratb.py\", line 1288, in structured_traceback\n",
      "    return FormattedTB.structured_traceback(\n",
      "  File \"C:\\Users\\ITC_Consultant\\AppData\\Roaming\\Python\\Python39\\site-packages\\IPython\\core\\ultratb.py\", line 1177, in structured_traceback\n",
      "    return VerboseTB.structured_traceback(\n",
      "  File \"C:\\Users\\ITC_Consultant\\AppData\\Roaming\\Python\\Python39\\site-packages\\IPython\\core\\ultratb.py\", line 1030, in structured_traceback\n",
      "    formatted_exception = self.format_exception_as_a_whole(etype, evalue, etb, number_of_lines_of_context,\n",
      "  File \"C:\\Users\\ITC_Consultant\\AppData\\Roaming\\Python\\Python39\\site-packages\\IPython\\core\\ultratb.py\", line 960, in format_exception_as_a_whole\n",
      "    frames.append(self.format_record(record))\n",
      "  File \"C:\\Users\\ITC_Consultant\\AppData\\Roaming\\Python\\Python39\\site-packages\\IPython\\core\\ultratb.py\", line 870, in format_record\n",
      "    frame_info.lines, Colors, self.has_colors, lvals\n",
      "  File \"C:\\Users\\ITC_Consultant\\AppData\\Roaming\\Python\\Python39\\site-packages\\IPython\\core\\ultratb.py\", line 704, in lines\n",
      "    return self._sd.lines\n",
      "  File \"C:\\Users\\ITC_Consultant\\AppData\\Roaming\\Python\\Python39\\site-packages\\stack_data\\utils.py\", line 144, in cached_property_wrapper\n",
      "    value = obj.__dict__[self.func.__name__] = self.func(obj)\n",
      "  File \"C:\\Users\\ITC_Consultant\\AppData\\Roaming\\Python\\Python39\\site-packages\\stack_data\\core.py\", line 734, in lines\n",
      "    pieces = self.included_pieces\n",
      "  File \"C:\\Users\\ITC_Consultant\\AppData\\Roaming\\Python\\Python39\\site-packages\\stack_data\\utils.py\", line 144, in cached_property_wrapper\n",
      "    value = obj.__dict__[self.func.__name__] = self.func(obj)\n",
      "  File \"C:\\Users\\ITC_Consultant\\AppData\\Roaming\\Python\\Python39\\site-packages\\stack_data\\core.py\", line 677, in included_pieces\n",
      "    scope_pieces = self.scope_pieces\n",
      "  File \"C:\\Users\\ITC_Consultant\\AppData\\Roaming\\Python\\Python39\\site-packages\\stack_data\\utils.py\", line 144, in cached_property_wrapper\n",
      "    value = obj.__dict__[self.func.__name__] = self.func(obj)\n",
      "  File \"C:\\Users\\ITC_Consultant\\AppData\\Roaming\\Python\\Python39\\site-packages\\stack_data\\core.py\", line 614, in scope_pieces\n",
      "    scope_start, scope_end = self.source.line_range(self.scope)\n",
      "  File \"C:\\Users\\ITC_Consultant\\AppData\\Roaming\\Python\\Python39\\site-packages\\stack_data\\core.py\", line 178, in line_range\n",
      "    return line_range(self.asttext(), node)\n",
      "AttributeError: 'Source' object has no attribute 'asttext'\n"
     ]
    }
   ],
   "source": [
    "model_shop"
   ]
  },
  {
   "cell_type": "code",
   "execution_count": 15,
   "id": "8359c1c5-613a-4f17-a52b-e772ef750160",
   "metadata": {
    "tags": []
   },
   "outputs": [
    {
     "data": {
      "application/javascript": [
       "\n",
       "        if (window._pyforest_update_imports_cell) { window._pyforest_update_imports_cell('import os'); }\n",
       "    "
      ],
      "text/plain": [
       "<IPython.core.display.Javascript object>"
      ]
     },
     "metadata": {},
     "output_type": "display_data"
    },
    {
     "name": "stdout",
     "output_type": "stream",
     "text": [
      "Unexpected exception formatting exception. Falling back to standard exception\n"
     ]
    },
    {
     "name": "stderr",
     "output_type": "stream",
     "text": [
      "Traceback (most recent call last):\n",
      "  File \"C:\\Users\\ITC_Consultant\\AppData\\Local\\Temp\\ipykernel_12064\\331470359.py\", line 20, in load\n",
      "    model_path = sorted(glob(pattern))[-1]\n",
      "IndexError: list index out of range\n",
      "\n",
      "During handling of the above exception, another exception occurred:\n",
      "\n",
      "Traceback (most recent call last):\n",
      "  File \"C:\\Users\\ITC_Consultant\\AppData\\Roaming\\Python\\Python39\\site-packages\\IPython\\core\\interactiveshell.py\", line 3460, in run_code\n",
      "    exec(code_obj, self.user_global_ns, self.user_ns)\n",
      "  File \"C:\\Users\\ITC_Consultant\\AppData\\Local\\Temp\\ipykernel_12064\\2921065102.py\", line 2, in <module>\n",
      "    model_shop = load(ticker=\"GBP\")\n",
      "  File \"C:\\Users\\ITC_Consultant\\AppData\\Local\\Temp\\ipykernel_12064\\331470359.py\", line 23, in load\n",
      "    raise Exception(f'No model trained for \"{ticker}\".')\n",
      "Exception: No model trained for \"GBP\".\n",
      "\n",
      "During handling of the above exception, another exception occurred:\n",
      "\n",
      "Traceback (most recent call last):\n",
      "  File \"C:\\Users\\ITC_Consultant\\AppData\\Roaming\\Python\\Python39\\site-packages\\IPython\\core\\interactiveshell.py\", line 2057, in showtraceback\n",
      "    stb = self.InteractiveTB.structured_traceback(\n",
      "  File \"C:\\Users\\ITC_Consultant\\AppData\\Roaming\\Python\\Python39\\site-packages\\IPython\\core\\ultratb.py\", line 1288, in structured_traceback\n",
      "    return FormattedTB.structured_traceback(\n",
      "  File \"C:\\Users\\ITC_Consultant\\AppData\\Roaming\\Python\\Python39\\site-packages\\IPython\\core\\ultratb.py\", line 1177, in structured_traceback\n",
      "    return VerboseTB.structured_traceback(\n",
      "  File \"C:\\Users\\ITC_Consultant\\AppData\\Roaming\\Python\\Python39\\site-packages\\IPython\\core\\ultratb.py\", line 1030, in structured_traceback\n",
      "    formatted_exception = self.format_exception_as_a_whole(etype, evalue, etb, number_of_lines_of_context,\n",
      "  File \"C:\\Users\\ITC_Consultant\\AppData\\Roaming\\Python\\Python39\\site-packages\\IPython\\core\\ultratb.py\", line 960, in format_exception_as_a_whole\n",
      "    frames.append(self.format_record(record))\n",
      "  File \"C:\\Users\\ITC_Consultant\\AppData\\Roaming\\Python\\Python39\\site-packages\\IPython\\core\\ultratb.py\", line 870, in format_record\n",
      "    frame_info.lines, Colors, self.has_colors, lvals\n",
      "  File \"C:\\Users\\ITC_Consultant\\AppData\\Roaming\\Python\\Python39\\site-packages\\IPython\\core\\ultratb.py\", line 704, in lines\n",
      "    return self._sd.lines\n",
      "  File \"C:\\Users\\ITC_Consultant\\AppData\\Roaming\\Python\\Python39\\site-packages\\stack_data\\utils.py\", line 144, in cached_property_wrapper\n",
      "    value = obj.__dict__[self.func.__name__] = self.func(obj)\n",
      "  File \"C:\\Users\\ITC_Consultant\\AppData\\Roaming\\Python\\Python39\\site-packages\\stack_data\\core.py\", line 734, in lines\n",
      "    pieces = self.included_pieces\n",
      "  File \"C:\\Users\\ITC_Consultant\\AppData\\Roaming\\Python\\Python39\\site-packages\\stack_data\\utils.py\", line 144, in cached_property_wrapper\n",
      "    value = obj.__dict__[self.func.__name__] = self.func(obj)\n",
      "  File \"C:\\Users\\ITC_Consultant\\AppData\\Roaming\\Python\\Python39\\site-packages\\stack_data\\core.py\", line 677, in included_pieces\n",
      "    scope_pieces = self.scope_pieces\n",
      "  File \"C:\\Users\\ITC_Consultant\\AppData\\Roaming\\Python\\Python39\\site-packages\\stack_data\\utils.py\", line 144, in cached_property_wrapper\n",
      "    value = obj.__dict__[self.func.__name__] = self.func(obj)\n",
      "  File \"C:\\Users\\ITC_Consultant\\AppData\\Roaming\\Python\\Python39\\site-packages\\stack_data\\core.py\", line 614, in scope_pieces\n",
      "    scope_start, scope_end = self.source.line_range(self.scope)\n",
      "  File \"C:\\Users\\ITC_Consultant\\AppData\\Roaming\\Python\\Python39\\site-packages\\stack_data\\core.py\", line 178, in line_range\n",
      "    return line_range(self.asttext(), node)\n",
      "AttributeError: 'Source' object has no attribute 'asttext'\n"
     ]
    }
   ],
   "source": [
    "# Assign load output to `model`\n",
    "model_shop = load(ticker=\"GBP\")\n",
    "\n",
    "# Does function return an `ARCHModelResult`\n",
    "assert isinstance(model_shop, ARCHModelResult)\n",
    "\n",
    "# Check model parameters\n",
    "model_shop.summary()"
   ]
  },
  {
   "cell_type": "code",
   "execution_count": 16,
   "id": "46543cd3-7e5a-4b85-ae8b-2285f72f25f0",
   "metadata": {
    "tags": []
   },
   "outputs": [
    {
     "name": "stdout",
     "output_type": "stream",
     "text": [
      "Unexpected exception formatting exception. Falling back to standard exception\n"
     ]
    },
    {
     "name": "stderr",
     "output_type": "stream",
     "text": [
      "Traceback (most recent call last):\n",
      "  File \"C:\\Users\\ITC_Consultant\\AppData\\Roaming\\Python\\Python39\\site-packages\\IPython\\core\\interactiveshell.py\", line 3460, in run_code\n",
      "    exec(code_obj, self.user_global_ns, self.user_ns)\n",
      "  File \"C:\\Users\\ITC_Consultant\\AppData\\Local\\Temp\\ipykernel_12064\\3068626112.py\", line 1, in <module>\n",
      "    model_shop = GarchModel(ticker=\"GBP\", repo=repo, use_new_data=False)\n",
      "TypeError: __init__() got an unexpected keyword argument 'ticker'\n",
      "\n",
      "During handling of the above exception, another exception occurred:\n",
      "\n",
      "Traceback (most recent call last):\n",
      "  File \"C:\\Users\\ITC_Consultant\\AppData\\Roaming\\Python\\Python39\\site-packages\\IPython\\core\\interactiveshell.py\", line 2057, in showtraceback\n",
      "    stb = self.InteractiveTB.structured_traceback(\n",
      "  File \"C:\\Users\\ITC_Consultant\\AppData\\Roaming\\Python\\Python39\\site-packages\\IPython\\core\\ultratb.py\", line 1288, in structured_traceback\n",
      "    return FormattedTB.structured_traceback(\n",
      "  File \"C:\\Users\\ITC_Consultant\\AppData\\Roaming\\Python\\Python39\\site-packages\\IPython\\core\\ultratb.py\", line 1177, in structured_traceback\n",
      "    return VerboseTB.structured_traceback(\n",
      "  File \"C:\\Users\\ITC_Consultant\\AppData\\Roaming\\Python\\Python39\\site-packages\\IPython\\core\\ultratb.py\", line 1030, in structured_traceback\n",
      "    formatted_exception = self.format_exception_as_a_whole(etype, evalue, etb, number_of_lines_of_context,\n",
      "  File \"C:\\Users\\ITC_Consultant\\AppData\\Roaming\\Python\\Python39\\site-packages\\IPython\\core\\ultratb.py\", line 960, in format_exception_as_a_whole\n",
      "    frames.append(self.format_record(record))\n",
      "  File \"C:\\Users\\ITC_Consultant\\AppData\\Roaming\\Python\\Python39\\site-packages\\IPython\\core\\ultratb.py\", line 870, in format_record\n",
      "    frame_info.lines, Colors, self.has_colors, lvals\n",
      "  File \"C:\\Users\\ITC_Consultant\\AppData\\Roaming\\Python\\Python39\\site-packages\\IPython\\core\\ultratb.py\", line 704, in lines\n",
      "    return self._sd.lines\n",
      "  File \"C:\\Users\\ITC_Consultant\\AppData\\Roaming\\Python\\Python39\\site-packages\\stack_data\\utils.py\", line 144, in cached_property_wrapper\n",
      "    value = obj.__dict__[self.func.__name__] = self.func(obj)\n",
      "  File \"C:\\Users\\ITC_Consultant\\AppData\\Roaming\\Python\\Python39\\site-packages\\stack_data\\core.py\", line 734, in lines\n",
      "    pieces = self.included_pieces\n",
      "  File \"C:\\Users\\ITC_Consultant\\AppData\\Roaming\\Python\\Python39\\site-packages\\stack_data\\utils.py\", line 144, in cached_property_wrapper\n",
      "    value = obj.__dict__[self.func.__name__] = self.func(obj)\n",
      "  File \"C:\\Users\\ITC_Consultant\\AppData\\Roaming\\Python\\Python39\\site-packages\\stack_data\\core.py\", line 677, in included_pieces\n",
      "    scope_pieces = self.scope_pieces\n",
      "  File \"C:\\Users\\ITC_Consultant\\AppData\\Roaming\\Python\\Python39\\site-packages\\stack_data\\utils.py\", line 144, in cached_property_wrapper\n",
      "    value = obj.__dict__[self.func.__name__] = self.func(obj)\n",
      "  File \"C:\\Users\\ITC_Consultant\\AppData\\Roaming\\Python\\Python39\\site-packages\\stack_data\\core.py\", line 614, in scope_pieces\n",
      "    scope_start, scope_end = self.source.line_range(self.scope)\n",
      "  File \"C:\\Users\\ITC_Consultant\\AppData\\Roaming\\Python\\Python39\\site-packages\\stack_data\\core.py\", line 178, in line_range\n",
      "    return line_range(self.asttext(), node)\n",
      "AttributeError: 'Source' object has no attribute 'asttext'\n"
     ]
    }
   ],
   "source": [
    "model_shop = GarchModel(ticker=\"GBP\", repo=repo, use_new_data=False)\n",
    "\n",
    "# Check that new `model_shop_test` doesn't have model attached\n",
    "assert not hasattr(model_shop, \"model\")\n",
    "\n",
    "# Load model\n",
    "model_shop.load()\n",
    "\n",
    "# Does `model_shop_test` have model attached?\n",
    "assert hasattr(model_shop, \"model\")\n",
    "\n",
    "model_shop.model.summary()"
   ]
  },
  {
   "cell_type": "markdown",
   "id": "442f4f3c-13af-42fc-ba9a-72f0288d52bc",
   "metadata": {},
   "source": [
    "Go to the command line, navigate to the directory for this project, and start your app server by entering the following command.\n",
    "\n",
    "\n",
    "```bash\n",
    "uvicorn main:app --reload --workers 1 --host localhost --port 8008\n",
    "```\n",
    "Remember how the AlphaVantage API had a \"/query\" path that we accessed using a get HTTP request? We're going to build similar paths for our application. Let's start with an MVP example so we can learn how paths work in FastAPI."
   ]
  },
  {
   "cell_type": "code",
   "execution_count": null,
   "id": "273b26b2-fe74-47f8-a770-701b24d193a9",
   "metadata": {
    "tags": []
   },
   "outputs": [],
   "source": [
    "#!pip3 install uvicorn"
   ]
  },
  {
   "cell_type": "code",
   "execution_count": null,
   "id": "7f47d3a7-cdd0-4bc3-bac3-fcf7fd97e2f2",
   "metadata": {},
   "outputs": [],
   "source": [
    "#pip3 install fastapi"
   ]
  },
  {
   "cell_type": "code",
   "execution_count": null,
   "id": "b1657033-6337-4cd1-96c7-43f218e12896",
   "metadata": {},
   "outputs": [],
   "source": [
    "#pip install uvicorn"
   ]
  },
  {
   "cell_type": "code",
   "execution_count": null,
   "id": "58a62502-e18d-4a54-ad61-3ec5a6832177",
   "metadata": {},
   "outputs": [],
   "source": [
    "url = 'http://localhost:8008/hello'\n",
    "response = requests.get(url=url)\n",
    "\n",
    "print(\"response code:\", response.status_code)\n",
    "response.json()"
   ]
  },
  {
   "cell_type": "code",
   "execution_count": null,
   "id": "b6233cd0-96a6-4328-ba85-67110ab8b4bf",
   "metadata": {},
   "outputs": [],
   "source": [
    "from main import FitIn, FitOut\n",
    "\n",
    "# Instantiate `FitIn`. Play with parameters.\n",
    "fi = FitIn(\n",
    "    ticker='GBP',\n",
    "    use_new_data=True,\n",
    "    n_observations=2000,\n",
    "    p=1,\n",
    "    q=1\n",
    "           \n",
    ")\n",
    "print(fi)\n",
    "\n",
    "# Instantiate `FitOut`. Play with parameters.\n",
    "fo =FitOut(\n",
    "    ticker='GBP',\n",
    "    use_new_data=True,\n",
    "    n_observations=2000,\n",
    "    p=1,\n",
    "    q=1,\n",
    "    success=True,\n",
    "    message='Model is ready to rock'\n",
    "    \n",
    "\n",
    ")\n",
    "print(fo)"
   ]
  },
  {
   "cell_type": "code",
   "execution_count": null,
   "id": "4b1d6911-35ea-488d-a1fc-0ea674fb7619",
   "metadata": {},
   "outputs": [],
   "source": [
    "from main import build_model\n",
    "\n",
    "# Instantiate `GarchModel` with function\n",
    "model_shop = build_model(ticker=\"GBP\", use_new_data=False)\n",
    "\n",
    "# Is `SQLRepository` attached to `model_shop`?\n",
    "assert isinstance(model_shop.repo, SQLRepository)\n",
    "\n",
    "# Is SQLite database attached to `SQLRepository`\n",
    "assert isinstance(model_shop.repo.connection, sqlite3.Connection)\n",
    "\n",
    "# Is `ticker` attribute correct?\n",
    "assert model_shop.ticker == \"GBP\"\n",
    "\n",
    "# Is `use_new_data` attribute correct?\n",
    "assert not model_shop.use_new_data\n",
    "\n"
   ]
  },
  {
   "cell_type": "code",
   "execution_count": null,
   "id": "6ff13742-227e-4d00-ad8a-7d3154fc5041",
   "metadata": {},
   "outputs": [],
   "source": [
    "type(model_shop.repo.connection)"
   ]
  },
  {
   "cell_type": "code",
   "execution_count": null,
   "id": "0dd0a9a9-8c94-4537-b9e3-b53b2d8d9ee1",
   "metadata": {},
   "outputs": [],
   "source": [
    "# URL of `/fit` path\n",
    "url = 'http://localhost:8008/fit'\n",
    "\n",
    "# Data to send to path\n",
    "json = {\n",
    "    \"ticker\":'GBP',\n",
    "    \"use_new_data\":True,\n",
    "    \"n_observations\":2000,\n",
    "    \"p\":1,\n",
    "    \"q\":1  \n",
    "    }\n",
    "# Response of post request\n",
    "response =requests.post(url=url, json=json)\n",
    "# Inspect response\n",
    "print(\"response code:\", response.status_code)\n",
    "response.json()"
   ]
  },
  {
   "cell_type": "code",
   "execution_count": null,
   "id": "efeda29b-84df-4f27-a57d-72c6deba2f69",
   "metadata": {},
   "outputs": [],
   "source": [
    "from main import PredictIn, PredictOut\n",
    "\n",
    "pi = PredictIn(ticker=\"GBP\", n_days=5)\n",
    "print(pi)\n",
    "\n",
    "po = PredictOut(\n",
    "    ticker=\"GBP\", n_days=5, success=True, forecast={}, message=\"success\"\n",
    ")\n",
    "print(po)"
   ]
  },
  {
   "cell_type": "code",
   "execution_count": null,
   "id": "4a53ae3c-9f3b-405f-b666-ca54844fa2d3",
   "metadata": {
    "tags": []
   },
   "outputs": [],
   "source": [
    "# URL of `/predict` path\n",
    "url =\"http://localhost:8008/predict\"\n",
    "# Data to send to path\n",
    "json = {'ticker':'GBP', 'n_days':5}\n",
    "# Response of post request\n",
    "response = requests.post(url=url, json=json)\n",
    "# Response JSON to be submitted to grader\n",
    "submission = response.json()\n",
    "# Inspect JSON\n",
    "submission"
   ]
  },
  {
   "cell_type": "code",
   "execution_count": null,
   "id": "c507fa45-6d96-4f6f-a59e-0b947e5cef60",
   "metadata": {},
   "outputs": [],
   "source": [
    "os.getcwd()"
   ]
  },
  {
   "cell_type": "code",
   "execution_count": null,
   "id": "b7f000ce-a60f-4595-8712-75ff17b3a54c",
   "metadata": {},
   "outputs": [],
   "source": [
    "model=joblib.load('models/2023-04-26T13_26_00.472128_GBP.pkl')"
   ]
  },
  {
   "cell_type": "code",
   "execution_count": null,
   "id": "a8087fe3-84b8-40a7-97a9-8711e970fafa",
   "metadata": {},
   "outputs": [],
   "source": [
    "prediction=model.forecast(horizon=3, reindex=False).variance\n",
    "prediction"
   ]
  },
  {
   "cell_type": "code",
   "execution_count": null,
   "id": "688f78b6-576a-45e1-a03a-dee9d0d90148",
   "metadata": {},
   "outputs": [],
   "source": [
    "model.summary()"
   ]
  },
  {
   "cell_type": "code",
   "execution_count": null,
   "id": "7d43ee17-bf5c-4c41-b399-564a8080851b",
   "metadata": {},
   "outputs": [],
   "source": [
    "prediction.index[0]"
   ]
  },
  {
   "cell_type": "code",
   "execution_count": null,
   "id": "063aa20c-8f0e-4d4d-a86e-b262c265a26a",
   "metadata": {},
   "outputs": [],
   "source": [
    "start_date=prediction.index[0] + pd.DateOffset(days=1)\n",
    "start_date"
   ]
  },
  {
   "cell_type": "code",
   "execution_count": null,
   "id": "2fe300ef-de62-43fe-a8da-1b561b036590",
   "metadata": {},
   "outputs": [],
   "source": [
    "prediction_dates = pd.bdate_range(start=start_date, periods=prediction.shape[1], freq='B')\n",
    "prediction_dates"
   ]
  },
  {
   "cell_type": "code",
   "execution_count": null,
   "id": "331c77cb-c70e-4763-92b1-ed6615770874",
   "metadata": {},
   "outputs": [],
   "source": [
    "prediction_index=[d for d in prediction_dates.strftime('%d/%m/%Y')]\n",
    "prediction_index"
   ]
  },
  {
   "cell_type": "code",
   "execution_count": null,
   "id": "07e428a2-bcec-4892-b677-6cd9fa0fb5b5",
   "metadata": {},
   "outputs": [],
   "source": [
    "data=prediction.values.flatten()**0.5\n",
    "data\n",
    "for i,j in zip(prediction_index, data):\n",
    "    print(round(j,2))"
   ]
  },
  {
   "cell_type": "code",
   "execution_count": null,
   "id": "b328d908-05b9-4fa8-99bc-62eeca189e1e",
   "metadata": {},
   "outputs": [],
   "source": [
    "df=pd.DataFrame(data, index=prediction_index)\n",
    "df.reset_index(inplace=True)\n",
    "\n",
    "df.columns=['Date','Volatility']\n",
    "# df.to_html()\n",
    "df"
   ]
  },
  {
   "cell_type": "markdown",
   "id": "ce435f6b-b36d-406a-9581-3a184d093902",
   "metadata": {},
   "source": [
    "'<table border=\"1\" class=\"dataframe\">\\n  \n",
    "    <thead>\\n    \n",
    "        <tr style=\"text-align: right;\">\\n      \n",
    "            <th></th>\\n      <th>0</th>\\n    \n",
    "        </tr>\\n  </thead>\\n  \n",
    "        <tbody>\\n    <tr>\\n      <th>27/04/2023</th>\\n      <td>0.493005</td>\\n    </tr>\\n    <tr>\\n      <th>28/04/2023</th>\\n      <td>0.502035</td>\\n    </tr>\\n    <tr>\\n      <th>01/05/2023</th>\\n      <td>0.510354</td>\\n    </tr>\\n  </tbody>\\n</table>'"
   ]
  },
  {
   "cell_type": "code",
   "execution_count": null,
   "id": "ce3e1cef-745a-41a8-be0b-b00f0e7de959",
   "metadata": {},
   "outputs": [],
   "source": [
    "prediction_listdate=[d for d in prediction_dates.strftime('%d/%m/%Y')]\n",
    "prediction_listdate"
   ]
  },
  {
   "cell_type": "code",
   "execution_count": null,
   "id": "2d8da29e-6aaa-4712-b4ab-defb637f1549",
   "metadata": {},
   "outputs": [],
   "source": [
    "listdate=[]\n",
    "for i in range(len(prediction_listdate)):\n",
    "    p=prediction_listdate[0][:10]\n",
    "    listdate.append(p)"
   ]
  },
  {
   "cell_type": "code",
   "execution_count": null,
   "id": "8c2cea45-2176-48af-970c-d3fb3a7e8626",
   "metadata": {},
   "outputs": [],
   "source": [
    "listdate"
   ]
  },
  {
   "cell_type": "code",
   "execution_count": 21,
   "id": "57cf0305-9f72-4da9-82a7-ac1b7eb64ccf",
   "metadata": {},
   "outputs": [],
   "source": [
    "cur=AlphaVantageAPI()"
   ]
  },
  {
   "cell_type": "code",
   "execution_count": 24,
   "id": "fddb5dfe-eb15-4143-9ffb-35c53f148aab",
   "metadata": {},
   "outputs": [],
   "source": [
    "df=cur.fx_daily(from_symbol='GBP', to_symbol='KES')"
   ]
  },
  {
   "cell_type": "code",
   "execution_count": 26,
   "id": "587562e4-f8cd-4fd5-ac73-5a58eb0fb5a8",
   "metadata": {},
   "outputs": [
    {
     "data": {
      "text/plain": [
       "'<table border=\"1\" class=\"dataframe\">\\n  <thead>\\n    <tr style=\"text-align: right;\">\\n      <th></th>\\n      <th>open</th>\\n      <th>high</th>\\n      <th>low</th>\\n      <th>close</th>\\n    </tr>\\n    <tr>\\n      <th>date</th>\\n      <th></th>\\n      <th></th>\\n      <th></th>\\n      <th></th>\\n    </tr>\\n  </thead>\\n  <tbody>\\n    <tr>\\n      <th>2023-04-28</th>\\n      <td>169.35</td>\\n      <td>170.64</td>\\n      <td>169.06</td>\\n      <td>170.45</td>\\n    </tr>\\n    <tr>\\n      <th>2023-04-27</th>\\n      <td>168.97</td>\\n      <td>169.40</td>\\n      <td>168.38</td>\\n      <td>169.38</td>\\n    </tr>\\n    <tr>\\n      <th>2023-04-26</th>\\n      <td>168.00</td>\\n      <td>169.47</td>\\n      <td>167.93</td>\\n      <td>168.89</td>\\n    </tr>\\n    <tr>\\n      <th>2023-04-25</th>\\n      <td>168.71</td>\\n      <td>168.84</td>\\n      <td>167.60</td>\\n      <td>167.91</td>\\n    </tr>\\n    <tr>\\n      <th>2023-04-24</th>\\n      <td>167.84</td>\\n      <td>168.65</td>\\n      <td>167.51</td>\\n      <td>168.64</td>\\n    </tr>\\n  </tbody>\\n</table>'"
      ]
     },
     "execution_count": 26,
     "metadata": {},
     "output_type": "execute_result"
    }
   ],
   "source": [
    "df.head().to_html()"
   ]
  },
  {
   "cell_type": "code",
   "execution_count": 27,
   "id": "6467ff85-b5ed-4dce-8a6f-e6faf87903ae",
   "metadata": {},
   "outputs": [
    {
     "data": {
      "text/plain": [
       "array([170.45, 169.38, 168.89, ..., 141.79, 141.42, 141.23])"
      ]
     },
     "execution_count": 27,
     "metadata": {},
     "output_type": "execute_result"
    }
   ],
   "source": [
    "df.close.values"
   ]
  },
  {
   "cell_type": "code",
   "execution_count": 28,
   "id": "702bac76-9a55-4a4b-ac3f-2715edfa9776",
   "metadata": {},
   "outputs": [
    {
     "data": {
      "text/plain": [
       "0"
      ]
     },
     "execution_count": 28,
     "metadata": {},
     "output_type": "execute_result"
    }
   ],
   "source": [
    "int(False)"
   ]
  },
  {
   "cell_type": "code",
   "execution_count": 30,
   "id": "f005927b-aca8-4b9f-8904-d1ae227ae6fd",
   "metadata": {},
   "outputs": [
    {
     "data": {
      "text/plain": [
       "True"
      ]
     },
     "execution_count": 30,
     "metadata": {},
     "output_type": "execute_result"
    }
   ],
   "source": [
    "bool('False')"
   ]
  },
  {
   "cell_type": "code",
   "execution_count": null,
   "id": "c45cca9e-29ac-4a40-8621-148f7bbf0269",
   "metadata": {},
   "outputs": [],
   "source": []
  }
 ],
 "metadata": {
  "kernelspec": {
   "display_name": "Python 3 (ipykernel)",
   "language": "python",
   "name": "python3"
  },
  "language_info": {
   "codemirror_mode": {
    "name": "ipython",
    "version": 3
   },
   "file_extension": ".py",
   "mimetype": "text/x-python",
   "name": "python",
   "nbconvert_exporter": "python",
   "pygments_lexer": "ipython3",
   "version": "3.9.16"
  }
 },
 "nbformat": 4,
 "nbformat_minor": 5
}
