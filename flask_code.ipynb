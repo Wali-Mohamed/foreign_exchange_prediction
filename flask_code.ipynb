{
 "cells": [
  {
   "cell_type": "code",
   "execution_count": null,
   "id": "bc4492c0-e697-4c83-944a-fc0bb496810c",
   "metadata": {},
   "outputs": [],
   "source": [
    "import numpy as np\n",
    "import random\n",
    "from flask import Flask, request, jsonify, render_template\n",
    "import pickle\n",
    "import requests"
   ]
  },
  {
   "cell_type": "code",
   "execution_count": null,
   "id": "2a967c4f-d847-438a-b2d3-46ea5306c389",
   "metadata": {},
   "outputs": [],
   "source": [
    "# Create flask app\n",
    "flask_app=Flask(__name__, template_folder='templates', static_folder='static')\n",
    "\n"
   ]
  },
  {
   "cell_type": "code",
   "execution_count": null,
   "id": "b46291fe-46ff-46f8-9920-50ebf755c8ef",
   "metadata": {},
   "outputs": [],
   "source": [
    "# #flask_app = Flask(__name__)\n",
    "# model = pickle.load(open(\"model_GBP.pkl\", \"rb\"))"
   ]
  },
  {
   "cell_type": "code",
   "execution_count": null,
   "id": "583a5812-4f5f-4733-9b10-d6345a3751cb",
   "metadata": {},
   "outputs": [],
   "source": [
    "flask_app=Flask(__name__, template_folder='templates', static_folder='static')\n",
    "@flask_app.route(\"/\")\n",
    "def Home():\n",
    "    return render_template(\"index.html\")\n",
    "    return render_template(\"styles.css\")\n",
    "    #return 'it is working'\n",
    "if __name__ == '__main__':\n",
    "      flask_app.run()"
   ]
  },
  {
   "cell_type": "code",
   "execution_count": null,
   "id": "df5de7d9-cc7b-45a9-9ebe-1a0cf83ad07a",
   "metadata": {},
   "outputs": [],
   "source": []
  },
  {
   "cell_type": "code",
   "execution_count": null,
   "id": "db7149b4-00a2-4325-a1ab-43672432ece5",
   "metadata": {},
   "outputs": [],
   "source": []
  },
  {
   "cell_type": "code",
   "execution_count": null,
   "id": "8359d6a3-bf60-4157-9e9b-6b0be46a9cc5",
   "metadata": {},
   "outputs": [],
   "source": [
    "# if __name__ == \"__main__\":  # Makes sure this is the main process\n",
    "#     flask_app.run( # Starts the site\n",
    "#     host='0.0.0.0',  # EStablishes the host, required for repl to detect the site\n",
    "#     port=random.randint(2000, 9000)  # Randomly select the port the machine hosts on.\n",
    "#     )"
   ]
  },
  {
   "cell_type": "code",
   "execution_count": null,
   "id": "7fd873b9-b317-47ff-b42c-0a7603633edf",
   "metadata": {},
   "outputs": [],
   "source": [
    "import joblib"
   ]
  },
  {
   "cell_type": "code",
   "execution_count": null,
   "id": "3b11c6e6-ed8b-4bdb-8087-211402777998",
   "metadata": {},
   "outputs": [],
   "source": [
    "from flask import Flask\n",
    "\n",
    "app = Flask(__name__)\n",
    "\n",
    "@app.route(\"/\")\n",
    "def hello():\n",
    "    return \"Hello, World!\"\n",
    "\n",
    "if __name__ == \"__main__\":\n",
    "    app.run()"
   ]
  },
  {
   "cell_type": "code",
   "execution_count": null,
   "id": "994e01dd-5e28-44ad-b812-3978470169f4",
   "metadata": {},
   "outputs": [],
   "source": [
    "url='http://10.21.6.44:3977/pred'\n",
    "response= requests.get(url=url)"
   ]
  },
  {
   "cell_type": "code",
   "execution_count": null,
   "id": "717b933d-06e1-4d3d-a42c-31d15ac69c4d",
   "metadata": {},
   "outputs": [],
   "source": [
    "response.json"
   ]
  },
  {
   "cell_type": "code",
   "execution_count": 7,
   "id": "93115101-75e2-4cdd-8b30-76b87e9dbcae",
   "metadata": {},
   "outputs": [],
   "source": [
    "from app import flask_app"
   ]
  },
  {
   "cell_type": "code",
   "execution_count": 8,
   "id": "e8d466c5-f3fa-4abb-bd4b-581730f937dd",
   "metadata": {},
   "outputs": [],
   "source": [
    "if __name__ == \"__app__\":\n",
    "    flask_app.run(host='0.0.0.0', port=5000, debug=False)"
   ]
  },
  {
   "cell_type": "code",
   "execution_count": 4,
   "id": "70d3b846-6f9b-4a37-a188-67631778ad9f",
   "metadata": {},
   "outputs": [],
   "source": [
    "import random\n",
    "p=random.__name__"
   ]
  },
  {
   "cell_type": "code",
   "execution_count": 6,
   "id": "344d97cc-0007-40f0-9025-7fe91c43f67d",
   "metadata": {},
   "outputs": [
    {
     "name": "stdout",
     "output_type": "stream",
     "text": [
      "__main__\n"
     ]
    }
   ],
   "source": [
    "print(__name__)"
   ]
  },
  {
   "cell_type": "code",
   "execution_count": null,
   "id": "d7032827-c57c-4707-80a4-d4e313425fd6",
   "metadata": {},
   "outputs": [],
   "source": []
  }
 ],
 "metadata": {
  "kernelspec": {
   "display_name": "Python 3 (ipykernel)",
   "language": "python",
   "name": "python3"
  },
  "language_info": {
   "codemirror_mode": {
    "name": "ipython",
    "version": 3
   },
   "file_extension": ".py",
   "mimetype": "text/x-python",
   "name": "python",
   "nbconvert_exporter": "python",
   "pygments_lexer": "ipython3",
   "version": "3.9.16"
  }
 },
 "nbformat": 4,
 "nbformat_minor": 5
}
