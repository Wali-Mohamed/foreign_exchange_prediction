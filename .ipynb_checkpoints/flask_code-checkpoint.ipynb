{
 "cells": [
  {
   "cell_type": "code",
   "execution_count": 1,
   "id": "bc4492c0-e697-4c83-944a-fc0bb496810c",
   "metadata": {},
   "outputs": [],
   "source": [
    "import numpy as np\n",
    "import random\n",
    "from flask import Flask, request, jsonify, render_template\n",
    "import pickle"
   ]
  },
  {
   "cell_type": "code",
   "execution_count": 2,
   "id": "2a967c4f-d847-438a-b2d3-46ea5306c389",
   "metadata": {},
   "outputs": [],
   "source": [
    "# Create flask app\n",
    "flask_app=Flask(__name__, template_folder='templates', static_folder='static')\n",
    "\n"
   ]
  },
  {
   "cell_type": "code",
   "execution_count": 3,
   "id": "b46291fe-46ff-46f8-9920-50ebf755c8ef",
   "metadata": {},
   "outputs": [],
   "source": [
    "# #flask_app = Flask(__name__)\n",
    "# model = pickle.load(open(\"model_GBP.pkl\", \"rb\"))"
   ]
  },
  {
   "cell_type": "code",
   "execution_count": null,
   "id": "583a5812-4f5f-4733-9b10-d6345a3751cb",
   "metadata": {},
   "outputs": [
    {
     "name": "stdout",
     "output_type": "stream",
     "text": [
      " * Serving Flask app '__main__'\n",
      " * Debug mode: off\n"
     ]
    },
    {
     "name": "stderr",
     "output_type": "stream",
     "text": [
      "WARNING: This is a development server. Do not use it in a production deployment. Use a production WSGI server instead.\n",
      " * Running on http://127.0.0.1:5000\n",
      "Press CTRL+C to quit\n",
      "[2023-04-26 12:04:54,365] ERROR in app: Exception on / [GET]\n",
      "Traceback (most recent call last):\n",
      "  File \"C:\\Users\\ITC_Consultant\\anaconda3\\lib\\site-packages\\flask\\app.py\", line 2525, in wsgi_app\n",
      "    response = self.full_dispatch_request()\n",
      "  File \"C:\\Users\\ITC_Consultant\\anaconda3\\lib\\site-packages\\flask\\app.py\", line 1822, in full_dispatch_request\n",
      "    rv = self.handle_user_exception(e)\n",
      "  File \"C:\\Users\\ITC_Consultant\\anaconda3\\lib\\site-packages\\flask\\app.py\", line 1820, in full_dispatch_request\n",
      "    rv = self.dispatch_request()\n",
      "  File \"C:\\Users\\ITC_Consultant\\anaconda3\\lib\\site-packages\\flask\\app.py\", line 1796, in dispatch_request\n",
      "    return self.ensure_sync(self.view_functions[rule.endpoint])(**view_args)\n",
      "  File \"C:\\Users\\ITC_Consultant\\AppData\\Local\\Temp\\ipykernel_15364\\2661097628.py\", line 4, in Home\n",
      "    return render_template(\"index.html\")\n",
      "  File \"C:\\Users\\ITC_Consultant\\anaconda3\\lib\\site-packages\\flask\\templating.py\", line 147, in render_template\n",
      "    return _render(app, template, context)\n",
      "  File \"C:\\Users\\ITC_Consultant\\anaconda3\\lib\\site-packages\\flask\\templating.py\", line 130, in _render\n",
      "    rv = template.render(context)\n",
      "  File \"C:\\Users\\ITC_Consultant\\anaconda3\\lib\\site-packages\\jinja2\\environment.py\", line 1301, in render\n",
      "    self.environment.handle_exception()\n",
      "  File \"C:\\Users\\ITC_Consultant\\anaconda3\\lib\\site-packages\\jinja2\\environment.py\", line 936, in handle_exception\n",
      "    raise rewrite_traceback_stack(source=source)\n",
      "  File \"C:\\Users\\ITC_Consultant\\Documents\\Personal Studies\\Deployment in flask api\\templates\\index.html\", line 20, in top-level template code\n",
      "    <form action=\"{{ url_for('predict')}}\"method=\"post\">\n",
      "  File \"C:\\Users\\ITC_Consultant\\anaconda3\\lib\\site-packages\\flask\\app.py\", line 2031, in url_for\n",
      "    return self.handle_url_build_error(error, endpoint, values)\n",
      "  File \"C:\\Users\\ITC_Consultant\\anaconda3\\lib\\site-packages\\flask\\app.py\", line 2020, in url_for\n",
      "    rv = url_adapter.build(  # type: ignore[union-attr]\n",
      "  File \"C:\\Users\\ITC_Consultant\\anaconda3\\lib\\site-packages\\werkzeug\\routing\\map.py\", line 917, in build\n",
      "    raise BuildError(endpoint, values, method, self)\n",
      "werkzeug.routing.exceptions.BuildError: Could not build url for endpoint 'predict'. Did you mean 'static' instead?\n",
      "127.0.0.1 - - [26/Apr/2023 12:04:54] \"GET / HTTP/1.1\" 500 -\n"
     ]
    }
   ],
   "source": [
    "\n",
    "@flask_app.route(\"/\")\n",
    "def Home():\n",
    "    return render_template(\"index.html\")\n",
    "    return render_template(\"styles.css\")\n",
    "    #return 'it is working'\n",
    "if __name__ == '__main__':\n",
    "      flask_app.run()"
   ]
  },
  {
   "cell_type": "code",
   "execution_count": null,
   "id": "df5de7d9-cc7b-45a9-9ebe-1a0cf83ad07a",
   "metadata": {},
   "outputs": [],
   "source": []
  },
  {
   "cell_type": "code",
   "execution_count": null,
   "id": "db7149b4-00a2-4325-a1ab-43672432ece5",
   "metadata": {},
   "outputs": [],
   "source": []
  },
  {
   "cell_type": "code",
   "execution_count": null,
   "id": "8359d6a3-bf60-4157-9e9b-6b0be46a9cc5",
   "metadata": {},
   "outputs": [],
   "source": [
    "# if __name__ == \"__main__\":  # Makes sure this is the main process\n",
    "#     flask_app.run( # Starts the site\n",
    "#     host='0.0.0.0',  # EStablishes the host, required for repl to detect the site\n",
    "#     port=random.randint(2000, 9000)  # Randomly select the port the machine hosts on.\n",
    "#     )"
   ]
  },
  {
   "cell_type": "code",
   "execution_count": null,
   "id": "7fd873b9-b317-47ff-b42c-0a7603633edf",
   "metadata": {},
   "outputs": [],
   "source": [
    " %tb"
   ]
  },
  {
   "cell_type": "code",
   "execution_count": null,
   "id": "3b11c6e6-ed8b-4bdb-8087-211402777998",
   "metadata": {},
   "outputs": [],
   "source": [
    "from flask import Flask\n",
    "\n",
    "app = Flask(__name__)\n",
    "\n",
    "@app.route(\"/\")\n",
    "def hello():\n",
    "    return \"Hello, World!\"\n",
    "\n",
    "if __name__ == \"__main__\":\n",
    "    app.run()"
   ]
  },
  {
   "cell_type": "code",
   "execution_count": null,
   "id": "994e01dd-5e28-44ad-b812-3978470169f4",
   "metadata": {},
   "outputs": [],
   "source": []
  }
 ],
 "metadata": {
  "kernelspec": {
   "display_name": "Python 3 (ipykernel)",
   "language": "python",
   "name": "python3"
  },
  "language_info": {
   "codemirror_mode": {
    "name": "ipython",
    "version": 3
   },
   "file_extension": ".py",
   "mimetype": "text/x-python",
   "name": "python",
   "nbconvert_exporter": "python",
   "pygments_lexer": "ipython3",
   "version": "3.9.16"
  }
 },
 "nbformat": 4,
 "nbformat_minor": 5
}
